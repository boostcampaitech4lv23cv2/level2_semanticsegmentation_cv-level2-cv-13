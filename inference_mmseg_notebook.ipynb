{
 "cells": [
  {
   "cell_type": "code",
   "execution_count": 15,
   "metadata": {},
   "outputs": [
    {
     "name": "stderr",
     "output_type": "stream",
     "text": [
      "2023-01-02 05:34:44,971 - mmseg - INFO - Multi-processing start method is `None`\n",
      "2023-01-02 05:34:44,974 - mmseg - INFO - OpenCV num_threads is `8\n",
      "2023-01-02 05:34:44,979 - mmseg - INFO - Loaded 819 images\n",
      "/opt/ml/mmsegmentation/mmseg/models/losses/cross_entropy_loss.py:235: UserWarning: Default ``avg_non_ignore`` is False, if you would like to ignore the certain label and average loss over non-ignore labels, which is the same with PyTorch official cross_entropy, set ``avg_non_ignore=True``.\n",
      "  warnings.warn(\n"
     ]
    },
    {
     "name": "stdout",
     "output_type": "stream",
     "text": [
      "load checkpoint from local path: /opt/ml/outputs/gaqoli29/best_mIoU_epoch_44.pth\n",
      "[>>>>>>>>>>>>>>>>>>>>>>>>>>>>>] 819/819, 5.2 task/s, elapsed: 156s, ETA:     0s"
     ]
    }
   ],
   "source": [
    "# Copyright (c) OpenMMLab. All rights reserved.\n",
    "import argparse\n",
    "import os\n",
    "import os.path as osp\n",
    "import shutil\n",
    "import time\n",
    "import warnings\n",
    "\n",
    "import mmcv\n",
    "import torch\n",
    "from mmcv.cnn.utils import revert_sync_batchnorm\n",
    "from mmcv.runner import (get_dist_info, init_dist, load_checkpoint,\n",
    "                         wrap_fp16_model)\n",
    "from mmcv.utils import DictAction\n",
    "import pandas as pd\n",
    "from mmseg import digit_version\n",
    "from mmseg.apis import multi_gpu_test, single_gpu_test\n",
    "from mmseg.datasets import build_dataloader, build_dataset\n",
    "from mmseg.models import build_segmentor\n",
    "from mmseg.utils import build_ddp, build_dp, get_device, setup_multi_processes\n",
    "import albumentations as A\n",
    "\n",
    "output_folder=\"/opt/ml/outputs/gaqoli29\"\n",
    "config_file=None\n",
    "for file in os.listdir(output_folder):\n",
    "    if file.endswith(\".py\"):\n",
    "        config_file=os.path.join(output_folder, file)\n",
    "        break\n",
    "cfg = mmcv.Config.fromfile(config_file)\n",
    "\n",
    "setup_multi_processes(cfg)\n",
    "\n",
    "# if True:\n",
    "#     # hard code index\n",
    "#     cfg.data.test.pipeline[1].img_ratios = [\n",
    "#         0.5, 0.75, 1.0, 1.25, 1.5, 1.75\n",
    "#     ]\n",
    "#     cfg.data.test.pipeline[1].flip = True\n",
    "cfg.model.pretrained = None\n",
    "cfg.data.test.test_mode = True\n",
    "\n",
    "dataset = build_dataset(cfg.data.test)\n",
    "loader_cfg = dict(\n",
    "    num_gpus=len(cfg.gpu_ids),\n",
    "    dist=False,\n",
    "    shuffle=False)\n",
    "loader_cfg.update({\n",
    "    k: v\n",
    "    for k, v in cfg.data.items() if k not in [\n",
    "        'train', 'val', 'test', 'train_dataloader', 'val_dataloader',\n",
    "        'test_dataloader'\n",
    "    ]\n",
    "})\n",
    "test_loader_cfg = {\n",
    "    **loader_cfg,\n",
    "    'samples_per_gpu': 1,\n",
    "    'shuffle': False,  # Not shuffle by default\n",
    "    **cfg.data.get('test_dataloader', {})\n",
    "}\n",
    "cfg.checkpoint_config.meta = dict(\n",
    "            config=cfg.pretty_text,\n",
    "            CLASSES=dataset.CLASSES,\n",
    "            PALETTE=dataset.PALETTE)\n",
    "\n",
    "\n",
    "# build the dataloader\n",
    "data_loader = build_dataloader(dataset, **test_loader_cfg)\n",
    "\n",
    "# build the model and load checkpoint\n",
    "cfg.model.train_cfg = None\n",
    "model = build_segmentor(cfg.model, test_cfg=cfg.get('test_cfg'))\n",
    "        \n",
    "best_pth=None\n",
    "for file in os.listdir(output_folder):\n",
    "    if file.startswith(\"best\"):\n",
    "        best_pth=os.path.join(output_folder,file)\n",
    "        break\n",
    "checkpoint = load_checkpoint(model, best_pth, map_location='cuda')\n",
    "'''if 'CLASSES' in checkpoint.get('meta', {}):\n",
    "    model.CLASSES = checkpoint['meta']['CLASSES']\n",
    "else:\n",
    "    print('\"CLASSES\" not found in meta, use dataset.CLASSES instead')\n",
    "    model.CLASSES = dataset.CLASSES\n",
    "if 'PALETTE' in checkpoint.get('meta', {}):\n",
    "    model.PALETTE = checkpoint['meta']['PALETTE']\n",
    "else:\n",
    "    print('\"PALETTE\" not found in meta, use dataset.PALETTE instead')\n",
    "    model.PALETTE = dataset.PALETTE'''\n",
    "\n",
    "# clean gpu memory when starting a new evaluation.\n",
    "torch.cuda.empty_cache()\n",
    "cfg.device = get_device()\n",
    "model = revert_sync_batchnorm(model)\n",
    "model = build_dp(model, cfg.device, device_ids=cfg.gpu_ids)\n",
    "results = single_gpu_test(\n",
    "    model,\n",
    "    data_loader)"
   ]
  },
  {
   "cell_type": "code",
   "execution_count": null,
   "metadata": {},
   "outputs": [],
   "source": [
    "new_visualization=[[0]*512 for _ in range(512)]\n",
    "for i in range(512):\n",
    "    for j in range(512):\n",
    "        if results[0][i][j]==8:\n",
    "            new_visualization[i][j]=1"
   ]
  },
  {
   "cell_type": "code",
   "execution_count": null,
   "metadata": {},
   "outputs": [],
   "source": [
    "import matplotlib.pyplot as plt\n",
    "plt.imshow(new_visualization, cmap=plt.cm.gray)  # use appropriate colormap here\n",
    "plt.show()"
   ]
  }
 ],
 "metadata": {
  "kernelspec": {
   "display_name": "base",
   "language": "python",
   "name": "python3"
  },
  "language_info": {
   "codemirror_mode": {
    "name": "ipython",
    "version": 3
   },
   "file_extension": ".py",
   "mimetype": "text/x-python",
   "name": "python",
   "nbconvert_exporter": "python",
   "pygments_lexer": "ipython3",
   "version": "3.8.5"
  },
  "orig_nbformat": 4,
  "vscode": {
   "interpreter": {
    "hash": "d4d1e4263499bec80672ea0156c357c1ee493ec2b1c70f0acce89fc37c4a6abe"
   }
  }
 },
 "nbformat": 4,
 "nbformat_minor": 2
}
