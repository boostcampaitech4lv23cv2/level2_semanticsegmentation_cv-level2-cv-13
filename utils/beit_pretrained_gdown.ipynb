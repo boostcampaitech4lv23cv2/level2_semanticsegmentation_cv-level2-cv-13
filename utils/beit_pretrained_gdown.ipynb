{
 "cells": [
  {
   "cell_type": "markdown",
   "metadata": {},
   "source": [
    "### gdown 설치"
   ]
  },
  {
   "cell_type": "code",
   "execution_count": null,
   "metadata": {},
   "outputs": [],
   "source": [
    "# pip install gdown"
   ]
  },
  {
   "cell_type": "markdown",
   "metadata": {},
   "source": [
    "### import & make directory"
   ]
  },
  {
   "cell_type": "code",
   "execution_count": null,
   "metadata": {},
   "outputs": [],
   "source": [
    "import gdown\n",
    "import os\n",
    "import zipfile"
   ]
  },
  {
   "cell_type": "code",
   "execution_count": null,
   "metadata": {},
   "outputs": [],
   "source": [
    "os.mkdir('/opt/ml/input/data/pretrained')"
   ]
  },
  {
   "cell_type": "markdown",
   "metadata": {},
   "source": [
    "### beit base pretrained pth download"
   ]
  },
  {
   "cell_type": "code",
   "execution_count": null,
   "metadata": {},
   "outputs": [],
   "source": [
    "google_path = 'https://drive.google.com/uc?id='\n",
    "file_id = '16T78OMDSEx8y3aluZSWmwR0hhxoGLY8R'\n",
    "output_name = '/opt/ml/input/data/pretrained/beit_base_patch16_224_pt22k_ft22k.pth'\n",
    "gdown.download(google_path + file_id, output_name, quiet = False)"
   ]
  },
  {
   "cell_type": "markdown",
   "metadata": {},
   "source": [
    "### beit large pretrained pth download"
   ]
  },
  {
   "cell_type": "code",
   "execution_count": null,
   "metadata": {},
   "outputs": [],
   "source": [
    "google_path = 'https://drive.google.com/uc?id='\n",
    "file_id = '1Rhc-5idC3pPtjMuRAvcG7W6_2DAZS6MC'\n",
    "output_name = '/opt/ml/input/data/pretrained/beit_large_patch16_224_pt22k_ft22k.pth'\n",
    "gdown.download(google_path + file_id, output_name, quiet = False)"
   ]
  },
  {
   "cell_type": "markdown",
   "metadata": {},
   "source": [
    "### 13ddzwb9 down"
   ]
  },
  {
   "cell_type": "code",
   "execution_count": null,
   "metadata": {},
   "outputs": [],
   "source": [
    "google_path = 'https://drive.google.com/uc?id='\n",
    "file_id = '1epy8rLdnzeAoFsUSfCVv0jdC8rQ4g7GL'\n",
    "output_name = '/opt/ml/outputs/13ddzwb9.zip'\n",
    "gdown.download(google_path + file_id, output_name, quiet = False)\n",
    "\n",
    "zipfile.ZipFile('/opt/ml/outputs/13ddzwb9.zip').extractall('/opt/ml/outputs/13ddzwb9')\n",
    "\n",
    "os.remove('/opt/ml/outputs/13ddzwb9.zip')"
   ]
  }
 ],
 "metadata": {
  "kernelspec": {
   "display_name": "Python 3.8.15 ('openmmlab')",
   "language": "python",
   "name": "python3"
  },
  "language_info": {
   "codemirror_mode": {
    "name": "ipython",
    "version": 3
   },
   "file_extension": ".py",
   "mimetype": "text/x-python",
   "name": "python",
   "nbconvert_exporter": "python",
   "pygments_lexer": "ipython3",
   "version": "3.8.15"
  },
  "orig_nbformat": 4,
  "vscode": {
   "interpreter": {
    "hash": "f970aae8c359c97046dcfc4e9c1c65f5e3f9cca2a3bef624d88d45c69053e355"
   }
  }
 },
 "nbformat": 4,
 "nbformat_minor": 2
}
